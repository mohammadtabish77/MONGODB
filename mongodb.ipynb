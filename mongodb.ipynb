{
 "cells": [
  {
   "cell_type": "markdown",
   "id": "a6cbeee0-515e-4747-8cbf-fc83c5cdcf63",
   "metadata": {},
   "source": [
    "###Q1. What is MongoDB? Explain non-relational databases in short. In which scenarios it is preferred to use \n",
    "MongoDB over SQL databases?"
   ]
  },
  {
   "cell_type": "markdown",
   "id": "f69a5d1f-6207-464c-a322-9eaa0a7278c4",
   "metadata": {},
   "source": [
    "ANS--*MongoDB* is a popular NoSQL database management system that is designed for flexibility and scalability. It falls under the category of non-relational databases. Here's a brief explanation:\n",
    "\n",
    "*Non-relational databases*, often referred to as NoSQL databases, are database systems that do not rely on the traditional relational database management system (RDBMS) structure. They are designed to handle various types of unstructured or semi-structured data, making them suitable for modern, data-intensive applications.\n",
    "\n",
    "MongoDB is preferred over SQL databases (relational databases) in several scenarios:\n",
    "\n",
    "1. *Schema Flexibility:* MongoDB is schema-less, which means you can store data without a predefined schema. This flexibility is particularly useful when dealing with evolving or semi-structured data, where data structures can change over time.\n",
    "\n",
    "2. *Scalability:* MongoDB is designed to scale horizontally by distributing data across multiple servers or clusters. This makes it well-suited for applications that need to handle high volumes of data and traffic, such as social media platforms or real-time analytics.\n",
    "\n",
    "3. *Document-Oriented:* MongoDB stores data in a format known as BSON (Binary JSON), which allows you to store complex data structures, including nested arrays and documents, making it a good choice for applications with diverse data models.\n",
    "\n",
    "4. *High Write Throughput:* MongoDB can handle a high rate of write operations, which is important for applications that require frequent updates or logging, like IoT data storage or content management systems.\n",
    "\n",
    "5. *Geospatial Data:* MongoDB has built-in support for geospatial data and queries, making it suitable for location-based applications, like mapping or geolocation services.\n",
    "\n",
    "6. *Real-Time Analytics:* MongoDB's aggregation framework and indexing capabilities allow for efficient real-time data analysis and reporting.\n",
    "\n",
    "7. *Rapid Development:* It's often used in agile development environments because developers can quickly adapt to changing requirements without altering the database schema.\n",
    "\n",
    "However, it's essential to note that the choice between MongoDB and SQL databases depends on the specific needs of your application. SQL databases are still a solid choice for applications that require strict data consistency, complex transactions, and well-defined schemas. MongoDB, on the other hand, excels in scenarios where flexibility, scalability, and handling diverse data structures are essential. The choice should be based on a careful assessment of your project's requirements.\n"
   ]
  },
  {
   "cell_type": "markdown",
   "id": "1448e828-4da0-459a-968d-80e025331270",
   "metadata": {},
   "source": [
    "###Q2. State and Explain the features of MongoDB."
   ]
  },
  {
   "cell_type": "markdown",
   "id": "f6e4cb49-b651-4e42-a7cf-bd8923442db2",
   "metadata": {},
   "source": [
    "ANS--MongoDB is a popular NoSQL database management system known for its flexibility and scalability. It offers a range of features that make it well-suited for modern application development. Here are some key features of MongoDB along with explanations:\n",
    "\n",
    "1. *Document-Oriented:*\n",
    "   - MongoDB stores data in flexible, JSON-like BSON (Binary JSON) documents, making it suitable for handling complex data structures.\n",
    "   - Documents can have nested fields, arrays, and even subdocuments, allowing you to represent data in a way that mirrors your application's needs.\n",
    "\n",
    "2. *Schema Flexibility:*\n",
    "   - MongoDB is schema-less, which means you can add or modify fields in a document without affecting other documents in the same collection.\n",
    "   - This flexibility is valuable when dealing with evolving data or agile development processes.\n",
    "\n",
    "3. *High Scalability:*\n",
    "   - MongoDB supports horizontal scaling through sharding, allowing you to distribute data across multiple servers or clusters.\n",
    "   - It can handle large amounts of data and traffic, making it suitable for applications with high scalability requirements.\n",
    "\n",
    "4. *Automatic Sharding:*\n",
    "   - MongoDB's automatic sharding feature simplifies the process of distributing data across multiple servers by splitting a collection into smaller chunks and distributing them among shard servers.\n",
    "\n",
    "5. *Replication:*\n",
    "   - MongoDB provides data redundancy and high availability through replica sets.\n",
    "   - A replica set consists of primary and secondary nodes, with automatic failover to ensure data availability.\n",
    "\n",
    "6. *Ad Hoc Queries:*\n",
    "   - MongoDB supports ad hoc queries, allowing you to search for data using a flexible query language.\n",
    "   - Queries can take advantage of indexing for improved performance.\n",
    "\n",
    "7. *Rich Query Language:*\n",
    "   - MongoDB offers a powerful query language that supports various query operators for filtering, sorting, and aggregating data.\n",
    "   - Geospatial queries, text searches, and regular expressions are also supported.\n",
    "\n",
    "8. *Geospatial Indexing:*\n",
    "   - MongoDB includes geospatial indexing and queries, making it suitable for location-based applications that require efficient geospatial data handling.\n",
    "\n",
    "9. *Aggregation Framework:*\n",
    "   - MongoDB's aggregation framework allows for complex data processing and analysis, supporting operations like grouping, filtering, and sorting.\n",
    "\n",
    "10. *Flexible Indexing:*\n",
    "    - MongoDB supports a wide range of indexing options, including single-field and compound indexes.\n",
    "    - Indexes can be customized to improve query performance.\n",
    "\n",
    "11. *GridFS:*\n",
    "    - GridFS is a feature of MongoDB for storing and retrieving large files, such as images, videos, or documents, in a distributed file system.\n",
    "\n",
    "12. *Security Features:*\n",
    "    - MongoDB provides authentication and authorization mechanisms to secure data access.\n",
    "    - Role-based access control allows you to define fine-grained access permissions.\n",
    "\n",
    "13. *ACID Transactions:*\n",
    "    - Starting from MongoDB 4.0, it supports multi-document ACID transactions, ensuring data consistency and integrity.\n",
    "\n",
    "14. *Community and Enterprise Editions:*\n",
    "    - MongoDB offers both a free and open-source Community Edition and a paid Enterprise Edition with additional features and support options.\n",
    "\n",
    "15. *Drivers and Ecosystem:*\n",
    "    - MongoDB has official and community-supported drivers for various programming languages, making it accessible for developers working in diverse environments.\n",
    "\n"
   ]
  },
  {
   "cell_type": "markdown",
   "id": "56fc0855-062d-4fc4-81b5-204ac06bd040",
   "metadata": {},
   "source": [
    "###Q3. Write a code to connect MongoDB to Python. Also, create a database and a collection in MongoDB."
   ]
  },
  {
   "cell_type": "markdown",
   "id": "7879eba8-28b4-4fec-9d5b-bc6b1655e54d",
   "metadata": {},
   "source": [
    "ANS--To connect MongoDB to Python and create a database and a collection, you can use the `pymongo` library, which is the official Python driver for MongoDB. First, make sure you have `pymongo` installed:\n"
   ]
  },
  {
   "cell_type": "code",
   "execution_count": 1,
   "id": "71813a93-19b7-40eb-994c-a89030bf8428",
   "metadata": {},
   "outputs": [
    {
     "name": "stdout",
     "output_type": "stream",
     "text": [
      "Collecting pymongo\n",
      "  Downloading pymongo-4.5.0-cp310-cp310-manylinux_2_17_x86_64.manylinux2014_x86_64.whl (671 kB)\n",
      "\u001b[2K     \u001b[90m━━━━━━━━━━━━━━━━━━━━━━━━━━━━━━━━━━━━━━\u001b[0m \u001b[32m671.3/671.3 kB\u001b[0m \u001b[31m15.7 MB/s\u001b[0m eta \u001b[36m0:00:00\u001b[0m00:01\u001b[0m\n",
      "\u001b[?25hCollecting dnspython<3.0.0,>=1.16.0\n",
      "  Downloading dnspython-2.4.2-py3-none-any.whl (300 kB)\n",
      "\u001b[2K     \u001b[90m━━━━━━━━━━━━━━━━━━━━━━━━━━━━━━━━━━━━━━\u001b[0m \u001b[32m300.4/300.4 kB\u001b[0m \u001b[31m32.4 MB/s\u001b[0m eta \u001b[36m0:00:00\u001b[0m\n",
      "\u001b[?25hInstalling collected packages: dnspython, pymongo\n",
      "Successfully installed dnspython-2.4.2 pymongo-4.5.0\n",
      "Note: you may need to restart the kernel to use updated packages.\n"
     ]
    }
   ],
   "source": [
    "pip install pymongo\n"
   ]
  },
  {
   "cell_type": "markdown",
   "id": "47600ab4-f31b-4243-bc70-69b6281c17e0",
   "metadata": {},
   "source": [
    "Here's a Python code snippet to connect to MongoDB, create a database, and create a collection within that database:"
   ]
  },
  {
   "cell_type": "code",
   "execution_count": null,
   "id": "b62e909d-6987-4060-a3a6-2b2a5a6c7255",
   "metadata": {},
   "outputs": [],
   "source": [
    "import pymongo\n",
    "\n",
    "# Replace these with your MongoDB connection details\n",
    "mongo_client = pymongo.MongoClient(\"mongodb://localhost:27017/\")  # Connection URL\n",
    "\n",
    "# Define the name of the database\n",
    "database_name = \"mydatabase\"\n",
    "\n",
    "# Create a new database or get an existing one\n",
    "mydb = mongo_client[database_name]\n",
    "\n",
    "# Define the name of the collection\n",
    "collection_name = \"mycollection\"\n",
    "\n",
    "# Create a new collection or get an existing one within the database\n",
    "mycollection = mydb[collection_name]\n",
    "\n",
    "# Insert a document into the collection\n",
    "data_to_insert = {\"name\": \"John\", \"age\": 30, \"city\": \"New York\"}\n",
    "insert_result = mycollection.insert_one(data_to_insert)\n",
    "\n",
    "# Print the inserted document's ID\n",
    "print(\"Inserted document ID:\", insert_result.inserted_id)\n",
    "\n",
    "# Close the MongoDB connection\n",
    "mongo_client.close()"
   ]
  },
  {
   "cell_type": "markdown",
   "id": "84deeb87-4a19-44d1-874f-1f0f2d5315d2",
   "metadata": {},
   "source": [
    "Explanation:\n",
    "\n",
    "1. We import the `pymongo` library to work with MongoDB.\n",
    "\n",
    "2. Replace `\"mongodb://localhost:27017/\"` with your MongoDB server's connection URL.\n",
    "\n",
    "3. We define the name of the database as `\"mydatabase\"` and create it or retrieve it using `mongo_client[database_name]`.\n",
    "\n",
    "4. We define the name of the collection as `\"mycollection\"` and create it or retrieve it within the database using `mydb[collection_name]`.\n",
    "\n",
    "5. We insert a sample document into the collection using `insert_one()`, and the inserted document's ID is printed.\n",
    "\n",
    "6. Finally, we close the MongoDB connection using `mongo_client.close()`.\n",
    "\n"
   ]
  },
  {
   "cell_type": "markdown",
   "id": "26c4cd9c-c952-4c6b-b196-1dc48607c2f3",
   "metadata": {},
   "source": [
    "###Q4. Using the database and the collection created in question number 3, write a code to insert one record, \n",
    "and insert many records. Use the find() and find_one() methods to print the inserted record."
   ]
  },
  {
   "cell_type": "markdown",
   "id": "080fc9f2-b341-4481-bd83-f85dece1c6dc",
   "metadata": {},
   "source": [
    "ans--Here's a Python code snippet that uses the database and collection created in question number 3 to insert one record, insert many records, and then use the `find()` and `find_one()` methods to print the inserted records:"
   ]
  },
  {
   "cell_type": "code",
   "execution_count": null,
   "id": "150ad712-5808-4073-9dce-960541d44f46",
   "metadata": {},
   "outputs": [],
   "source": [
    "import pymongo\n",
    "\n",
    "# Replace these with your MongoDB connection details\n",
    "mongo_client = pymongo.MongoClient(\"mongodb://localhost:27017/\")  # Connection URL\n",
    "\n",
    "# Define the name of the database\n",
    "database_name = \"mydatabase\"\n",
    "\n",
    "# Create a new database or get an existing one\n",
    "mydb = mongo_client[database_name]\n",
    "\n",
    "# Define the name of the collection\n",
    "collection_name = \"mycollection\"\n",
    "\n",
    "# Create a new collection or get an existing one within the database\n",
    "mycollection = mydb[collection_name]\n",
    "\n",
    "# Insert one record\n",
    "data_to_insert_one = {\"name\": \"Alice\", \"age\": 25, \"city\": \"Los Angeles\"}\n",
    "insert_result_one = mycollection.insert_one(data_to_insert_one)\n",
    "\n",
    "# Insert many records\n",
    "data_to_insert_many = [\n",
    "    {\"name\": \"Bob\", \"age\": 32, \"city\": \"San Francisco\"},\n",
    "    {\"name\": \"Charlie\", \"age\": 28, \"city\": \"Chicago\"},\n",
    "    {\"name\": \"David\", \"age\": 22, \"city\": \"Houston\"}\n",
    "]\n",
    "insert_result_many = mycollection.insert_many(data_to_insert_many)\n",
    "\n",
    "# Print the IDs of the inserted records\n",
    "print(\"Inserted one record ID:\", insert_result_one.inserted_id)\n",
    "print(\"Inserted many records IDs:\", insert_result_many.inserted_ids)\n",
    "\n",
    "# Find and print one record\n",
    "found_one_record = mycollection.find_one({\"name\": \"Alice\"})\n",
    "print(\"Found one record:\")\n",
    "print(found_one_record)\n",
    "\n",
    "# Find and print all records\n",
    "found_all_records = mycollection.find()\n",
    "print(\"Found all records:\")\n",
    "for record in found_all_records:\n",
    "    print(record)\n",
    "\n",
    "# Close the MongoDB connection\n",
    "mongo_client.close()\n",
    "\n"
   ]
  },
  {
   "cell_type": "markdown",
   "id": "4c58aa8d-41e9-42e3-be0d-1c4ccadab1f0",
   "metadata": {},
   "source": [
    "1. We insert one record using `insert_one()` and multiple records using `insert_many()`.\n",
    "\n",
    "2. We use `find_one()` to retrieve and print a single record with the name \"Alice.\"\n",
    "\n",
    "3. We use `find()` to retrieve all records and print each one in a loop.\n"
   ]
  },
  {
   "cell_type": "markdown",
   "id": "c22cc055-3b03-45aa-9af3-ad67008b4328",
   "metadata": {},
   "source": [
    "###Q5. Explain how you can use the find() method to query the MongoDB database. Write a simple code to \n",
    "demonstrate this."
   ]
  },
  {
   "cell_type": "markdown",
   "id": "34646e40-3f1f-4e83-a4dc-9b3dfcf75e29",
   "metadata": {},
   "source": [
    "ANS--The `find()` method in MongoDB is used to query a collection and retrieve documents that match specified criteria. It allows you to filter and retrieve multiple documents that meet the query conditions. Here's how you can use the `find()` method and a code example to demonstrate it"
   ]
  },
  {
   "cell_type": "markdown",
   "id": "f936abf9-0947-4dd9-8e73-460d9d0bfbf4",
   "metadata": {},
   "source": [
    "*Example:*\n",
    "Let's say you have a collection named \"students\" with documents containing student information. We want to find all students who are older than 20 years.\n",
    "\n"
   ]
  },
  {
   "cell_type": "code",
   "execution_count": null,
   "id": "4c9c01fd-bab5-4585-992b-b06488e634f4",
   "metadata": {},
   "outputs": [],
   "source": [
    "import pymongo\n",
    "\n",
    "# Replace these with your MongoDB connection details\n",
    "mongo_client = pymongo.MongoClient(\"mongodb://localhost:27017/\")  # Connection URL\n",
    "\n",
    "# Connect to the database and collection\n",
    "mydb = mongo_client[\"mydatabase\"]\n",
    "mycollection = mydb[\"students\"]\n",
    "\n",
    "# Find all students older than 20\n",
    "query = {\"age\": {\"$gt\": 20}}  # $gt stands for greater than\n",
    "result = mycollection.find(query)\n",
    "\n",
    "# Print the matching documents\n",
    "for student in result:\n",
    "    print(student)\n",
    "\n",
    "# Close the MongoDB connection\n",
    "mongo_client.close()\n"
   ]
  },
  {
   "cell_type": "markdown",
   "id": "0c3858f3-da79-4c50-b40d-925201d1cb2e",
   "metadata": {},
   "source": [
    "1. We connect to the \"mydatabase\" and \"students\" collection within MongoDB.\n",
    "\n",
    "2. We define a query using `{\"age\": {\"$gt\": 20}}` to find students whose \"age\" field is greater than 20. The `$gt` operator is used for comparison.\n",
    "\n",
    "3. We use the `find()` method with the query and iterate through the results to print the matching documents.\n",
    "\n",
    "The `find()` method returns a cursor that can be iterated over to access the matching documents. It's a powerful tool for querying and retrieving specific data from your MongoDB collections based on your defined criteria."
   ]
  },
  {
   "cell_type": "markdown",
   "id": "54f2c2ae-bbd1-4d89-ab15-f4596202e2a4",
   "metadata": {},
   "source": [
    "###Q6. Explain the sort() method. Give an example to demonstrate sorting in MongoDB."
   ]
  },
  {
   "cell_type": "markdown",
   "id": "01efaa48-c76e-478c-9d1a-f070196ff403",
   "metadata": {},
   "source": [
    "ANS--The `sort()` method in MongoDB is used to specify the order in which documents should be returned from a query. It allows you to sort the result set based on one or more fields in ascending (1) or descending (-1) order. You can apply sorting to the documents retrieved using the `find()` method."
   ]
  },
  {
   "cell_type": "code",
   "execution_count": null,
   "id": "b3138a75-3b68-46c6-abc3-faa4cbef4192",
   "metadata": {},
   "outputs": [],
   "source": [
    "import pymongo\n",
    "\n",
    "# Replace these with your MongoDB connection details\n",
    "mongo_client = pymongo.MongoClient(\"mongodb://localhost:27017/\")  # Connection URL\n",
    "\n",
    "# Connect to the database and collection\n",
    "mydb = mongo_client[\"mydatabase\"]\n",
    "mycollection = mydb[\"products\"]\n",
    "\n",
    "# Define a query (optional)\n",
    "query = {\"category\": \"Electronics\"}\n",
    "\n",
    "# Sort products by price in descending order\n",
    "sort_criteria = [(\"price\", -1)]\n",
    "\n",
    "# Find and sort products\n",
    "result = mycollection.find(query).sort(sort_criteria)\n",
    "\n",
    "# Print the sorted documents\n",
    "for product in result:\n",
    "    print(product)\n",
    "\n",
    "# Close the MongoDB connection\n",
    "mongo_client.close()\n",
    "\n"
   ]
  },
  {
   "cell_type": "markdown",
   "id": "9551ab46-dc72-4de5-9e02-295aa893aa19",
   "metadata": {},
   "source": [
    "1. We connect to the \"mydatabase\" and \"products\" collection within MongoDB.\n",
    "\n",
    "2. We define an optional query to filter products in a specific category (e.g., \"Electronics\").\n",
    "\n",
    "3. We define `sort_criteria` as `[(\"price\", -1)]`, indicating that we want to sort by the \"price\" field in descending order (-1).\n",
    "\n",
    "4. We use the `find()` method with the query and `sort()` to retrieve and sort the products based on the specified criteria.\n",
    "\n",
    "The result will be a list of products sorted by their prices in descending order. You can adjust the `sort_criteria` to sort by different fields or in different orders as needed.\n",
    "\n",
    "The `sort()` method is valuable for controlling the order in which documents are returned, making it easier to present data in a desired sequence, such as alphabetical order, chronological order, or by numerical values."
   ]
  },
  {
   "cell_type": "markdown",
   "id": "a9f1c060-a0a4-438b-8f6e-58729ddc9be9",
   "metadata": {},
   "source": [
    "###Q7. Explain why delete_one(), delete_many(), and drop() is used."
   ]
  },
  {
   "cell_type": "markdown",
   "id": "f3ca79da-4a89-4805-9f0e-cba317b0fbf3",
   "metadata": {},
   "source": [
    "In MongoDB, the `delete_one()`, `delete_many()`, and `drop()` methods are used for different purposes to manage and manipulate data within a collection:\n",
    "\n",
    "1. *`delete_one(filter)`*:\n",
    "   - This method is used to delete a single document that matches a specified filter condition.\n",
    "   - It deletes the first document that matches the filter and stops once a match is found.\n",
    "   - If no documents match the filter, it does nothing (no errors are raised).\n",
    "   - Useful when you want to remove a specific document from a collection based on certain criteria."
   ]
  },
  {
   "cell_type": "code",
   "execution_count": null,
   "id": "ddfcaf8b-6416-425c-8d49-69c56f27c269",
   "metadata": {},
   "outputs": [],
   "source": [
    " mycollection.delete_one({\"name\": \"John\"})"
   ]
  },
  {
   "cell_type": "markdown",
   "id": "78445f58-95fd-4e66-a49d-1a45c01fe4fb",
   "metadata": {},
   "source": [
    "This code deletes the first document with the name \"John\" from the collection."
   ]
  },
  {
   "cell_type": "markdown",
   "id": "5412a6ad-32bf-439f-b594-73e5b4846a39",
   "metadata": {},
   "source": [
    "2. *`delete_many(filter)`*:\n",
    "   - This method is used to delete multiple documents that match a specified filter condition.\n",
    "   - It continues searching for and deleting all documents that match the filter until no more matches are found.\n",
    "   - Useful when you want to remove multiple documents that meet specific criteria."
   ]
  },
  {
   "cell_type": "code",
   "execution_count": null,
   "id": "e0fb7e14-4fdc-402f-bb5f-697458b502bc",
   "metadata": {},
   "outputs": [],
   "source": [
    "mycollection.delete_many({\"age\": {\"$gte\": 30}})"
   ]
  },
  {
   "cell_type": "markdown",
   "id": "9901e690-3045-4f3b-87bd-4c9a777edea6",
   "metadata": {},
   "source": [
    "This code deletes all documents where the \"age\" is greater than or equal to 30."
   ]
  },
  {
   "cell_type": "markdown",
   "id": "0f4ede83-45b2-4762-abe8-102904a88c65",
   "metadata": {},
   "source": [
    "3. *`drop()`*:\n",
    "   - The `drop()` method is used to delete an entire collection from the database.\n",
    "   - It removes all documents within the collection and the collection itself.\n",
    "   - This operation is irreversible and permanently removes the entire collection.\n",
    "   - Useful when you want to completely remove a collection and all its data.\n"
   ]
  },
  {
   "cell_type": "code",
   "execution_count": null,
   "id": "e2b8dc07-fd25-4d09-8957-98f068365ba2",
   "metadata": {},
   "outputs": [],
   "source": [
    "mycollection.drop()"
   ]
  },
  {
   "cell_type": "markdown",
   "id": "9c38e1dd-9abe-47ea-876e-1b6b9d3ac00f",
   "metadata": {},
   "source": [
    "This code drops (deletes) the entire \"mycollection\" collection from the database.\n"
   ]
  },
  {
   "cell_type": "code",
   "execution_count": null,
   "id": "65168de2-4292-4295-bbac-c89480b02ec5",
   "metadata": {},
   "outputs": [],
   "source": []
  },
  {
   "cell_type": "code",
   "execution_count": null,
   "id": "8b18679f-5682-4e2b-941c-e4fb3920ee10",
   "metadata": {},
   "outputs": [],
   "source": []
  },
  {
   "cell_type": "code",
   "execution_count": null,
   "id": "b1969d05-4b3e-4ae9-ba93-321209e1d41b",
   "metadata": {},
   "outputs": [],
   "source": []
  },
  {
   "cell_type": "code",
   "execution_count": null,
   "id": "d22d47c1-accd-4b23-b562-249f81e018c4",
   "metadata": {},
   "outputs": [],
   "source": []
  },
  {
   "cell_type": "code",
   "execution_count": null,
   "id": "e68f698c-d2ad-42c8-87cb-9a1f9a51e3f3",
   "metadata": {},
   "outputs": [],
   "source": []
  }
 ],
 "metadata": {
  "kernelspec": {
   "display_name": "Python 3 (ipykernel)",
   "language": "python",
   "name": "python3"
  },
  "language_info": {
   "codemirror_mode": {
    "name": "ipython",
    "version": 3
   },
   "file_extension": ".py",
   "mimetype": "text/x-python",
   "name": "python",
   "nbconvert_exporter": "python",
   "pygments_lexer": "ipython3",
   "version": "3.10.8"
  }
 },
 "nbformat": 4,
 "nbformat_minor": 5
}
